{
 "cells": [
  {
   "cell_type": "code",
   "execution_count": null,
   "metadata": {},
   "outputs": [],
   "source": [
    "\n"
   ]
  },
  {
   "cell_type": "code",
   "execution_count": 1,
   "metadata": {},
   "outputs": [],
   "source": [
    "from colabcode import ColabCode"
   ]
  },
  {
   "cell_type": "code",
   "execution_count": 2,
   "metadata": {},
   "outputs": [
    {
     "name": "stderr",
     "output_type": "stream",
     "text": [
      "--2023-01-28 23:11:42--  https://code-server.dev/install.sh\n",
      "Resolving code-server.dev (code-server.dev)... 172.67.214.225, 104.21.16.171, 2606:4700:3031::ac43:d6e1, ...\n",
      "Connecting to code-server.dev (code-server.dev)|172.67.214.225|:443... connected.\n",
      "HTTP request sent, awaiting response... 302 Found\n",
      "Location: https://raw.githubusercontent.com/cdr/code-server/main/install.sh [following]\n",
      "--2023-01-28 23:11:42--  https://raw.githubusercontent.com/cdr/code-server/main/install.sh\n",
      "Resolving raw.githubusercontent.com (raw.githubusercontent.com)... 185.199.111.133, 185.199.108.133, 185.199.109.133, ...\n",
      "Connecting to raw.githubusercontent.com (raw.githubusercontent.com)|185.199.111.133|:443... connected.\n",
      "HTTP request sent, awaiting response... 200 OK\n",
      "Length: 15859 (15K) [text/plain]\n",
      "Saving to: ‘install.sh’\n",
      "\n",
      "     0K .......... .....                                      100% 20.2M=0.001s\n",
      "\n",
      "2023-01-28 23:11:42 (20.2 MB/s) - ‘install.sh’ saved [15859/15859]\n",
      "\n",
      "######################################################################## 100.0%\n",
      "sudo: a terminal is required to read the password; either use the -S option to read from standard input or configure an askpass helper\n"
     ]
    },
    {
     "name": "stdout",
     "output_type": "stream",
     "text": [
      "Installing extensions on brown-lawyer-oxkwe.pwskills.app...\n",
      "Extension 'ms-python.python' v2022.16.1 is already installed. Use '--force' option to update to latest version or provide '@<version>' to install a specific version, for example: 'ms-python.python@1.2.3'.\n",
      "Installing extensions on brown-lawyer-oxkwe.pwskills.app...\n",
      "Extension 'ms-toolsai.jupyter' v2022.8.1002460559 is already installed. Use '--force' option to update to latest version or provide '@<version>' to install a specific version, for example: 'ms-toolsai.jupyter@1.2.3'.\n",
      "Installing extensions on brown-lawyer-oxkwe.pwskills.app...\n",
      "Installing extension 'mechatroner.rainbow-csv'...\n",
      "Extension 'mechatroner.rainbow-csv' v3.3.0 was successfully installed.\n",
      "Installing extensions on brown-lawyer-oxkwe.pwskills.app...\n",
      "Installing extension 'vscode-icons-team.vscode-icons'...\n",
      "Extension 'vscode-icons-team.vscode-icons' v12.2.0 was successfully installed.\n",
      "Code Server can be accessed on: NgrokTunnel: \"https://a15a-13-234-225-21.ngrok.io\" -> \"http://localhost:10000\"\n"
     ]
    },
    {
     "name": "stderr",
     "output_type": "stream",
     "text": [
      "sh: 1: fuser: not found\n",
      "Ignoring option 'port': not supported for code-server.\n",
      "Ignoring option 'auth': not supported for code-server.\n",
      "Ignoring option 'disable-telemetry': not supported for code-server.\n"
     ]
    },
    {
     "data": {
      "text/plain": [
       "<colabcode.code.ColabCode at 0x7f338025eee0>"
      ]
     },
     "execution_count": 2,
     "metadata": {},
     "output_type": "execute_result"
    },
    {
     "name": "stderr",
     "output_type": "stream",
     "text": [
      "t=2023-01-28T23:16:36+0530 lvl=warn msg=\"failed to open private leg\" id=5ba0ec17e869 privaddr=localhost:10000 err=\"dial tcp 127.0.0.1:10000: connect: connection refused\"\n",
      "t=2023-01-28T23:16:39+0530 lvl=warn msg=\"failed to open private leg\" id=151cf9b48c33 privaddr=localhost:10000 err=\"dial tcp 127.0.0.1:10000: connect: connection refused\"\n"
     ]
    }
   ],
   "source": [
    "ColabCode(port=10000)"
   ]
  },
  {
   "cell_type": "code",
   "execution_count": null,
   "metadata": {},
   "outputs": [],
   "source": []
  }
 ],
 "metadata": {
  "kernelspec": {
   "display_name": "Python 3.9.15 ('base')",
   "language": "python",
   "name": "python3"
  },
  "language_info": {
   "codemirror_mode": {
    "name": "ipython",
    "version": 3
   },
   "file_extension": ".py",
   "mimetype": "text/x-python",
   "name": "python",
   "nbconvert_exporter": "python",
   "pygments_lexer": "ipython3",
   "version": "3.9.15"
  },
  "orig_nbformat": 4,
  "vscode": {
   "interpreter": {
    "hash": "ba7d6a92d9c7295bfdcfceb88786d0d9300abf0a1802f116b1f16ab64cdf39a0"
   }
  }
 },
 "nbformat": 4,
 "nbformat_minor": 2
}
